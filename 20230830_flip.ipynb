{
 "cells": [
  {
   "cell_type": "code",
   "execution_count": 2,
   "metadata": {},
   "outputs": [],
   "source": [
    "import numpy as np"
   ]
  },
  {
   "cell_type": "code",
   "execution_count": 41,
   "metadata": {},
   "outputs": [],
   "source": [
    "x = np.array([1,2,3,4,5,6,7,8])\n",
    "y = np.array([6,2,4,134,21,4,100,3])"
   ]
  },
  {
   "cell_type": "code",
   "execution_count": 42,
   "metadata": {},
   "outputs": [
    {
     "name": "stdout",
     "output_type": "stream",
     "text": [
      "x의 평균 4.5\n",
      "y의 평균 34.25\n"
     ]
    }
   ],
   "source": [
    "# 평균\n",
    "\n",
    "print('x의 평균', sum(x)/len(x))\n",
    "print('y의 평균', sum(y)/len(y))"
   ]
  },
  {
   "cell_type": "code",
   "execution_count": 43,
   "metadata": {},
   "outputs": [
    {
     "name": "stdout",
     "output_type": "stream",
     "text": [
      "x의 분산 5.25\n",
      "x의 표준편차 2.2913\n"
     ]
    }
   ],
   "source": [
    "# 분산 및 표준 편차\n",
    "\n",
    "x_mean = sum(x)/len(x)\n",
    "\n",
    "x_var = sum([(x_i-x_mean)**2 for x_i in x])/len(x)\n",
    "\n",
    "x_std = x_var**0.5\n",
    "\n",
    "print('x의 분산', x_var)\n",
    "print('x의 표준편차', '{:.4f}'.format(x_std))"
   ]
  },
  {
   "cell_type": "code",
   "execution_count": 44,
   "metadata": {},
   "outputs": [
    {
     "name": "stdout",
     "output_type": "stream",
     "text": [
      "y의 평균 34.25\n",
      "y의 분산 2386.6875\n",
      "y의 표준편차 48.8537\n"
     ]
    }
   ],
   "source": [
    "# y의 평균, 분산, 표준편차\n",
    "\n",
    "y_mean = y.mean()\n",
    "\n",
    "y_var = y.std()**2\n",
    "\n",
    "y_std = y.std()\n",
    "\n",
    "print('y의 평균', y_mean)\n",
    "print('y의 분산', '{:.4f}'.format(y_var))\n",
    "print('y의 표준편차', '{:.4f}'.format(y_std))"
   ]
  },
  {
   "cell_type": "code",
   "execution_count": 52,
   "metadata": {},
   "outputs": [
    {
     "name": "stdout",
     "output_type": "stream",
     "text": [
      "x와 y의 공분산 22.25\n"
     ]
    }
   ],
   "source": [
    "# 공분산\n",
    "\n",
    "xy_covar = (sum([(x_i-x_mean)*(y_i-y_mean) for x_i,y_i in zip(x,y)]))/len(x)\n",
    "print('x와 y의 공분산', xy_covar)"
   ]
  },
  {
   "cell_type": "code",
   "execution_count": 61,
   "metadata": {},
   "outputs": [
    {
     "name": "stdout",
     "output_type": "stream",
     "text": [
      "x와 y의 상관계수 0.198771\n"
     ]
    }
   ],
   "source": [
    "# 상관 계수 -1~1의 값을 가짐\n",
    "\n",
    "xy_corr = xy_covar/(x_std*y_std)\n",
    "\n",
    "print(f'x와 y의 상관계수 {xy_corr:.6f}')"
   ]
  },
  {
   "cell_type": "code",
   "execution_count": 78,
   "metadata": {},
   "outputs": [
    {
     "data": {
      "image/png": "[encoded data removed]",
      "text/plain": [
       "<Figure size 1000x400 with 2 Axes>"
      ]
     },
     "metadata": {},
     "output_type": "display_data"
    }
   ],
   "source": [
    "import matplotlib.pyplot as plt\n",
    "\n",
    "# 공분산 계산\n",
    "plt.figure(figsize=(10,4))\n",
    "\n",
    "plt.subplot(121)\n",
    "plt.scatter(x, y, label=f'Covariance: {xy_covar:.2f}')\n",
    "plt.xlabel('x')\n",
    "plt.ylabel('y')\n",
    "plt.title('Scatter Plot with Covariance')\n",
    "plt.grid(True)\n",
    "\n",
    "plt.subplot(122)\n",
    "plt.scatter(x, y, label=f'Correlation Coefficient: {xy_corr:.8f}')\n",
    "plt.xlabel('x')\n",
    "plt.ylabel('y')\n",
    "plt.title('Scatter Plot with Correlation Coefficient')\n",
    "plt.grid(True)\n",
    "\n",
    "plt.show()\n",
    "\n"
   ]
  },
  {
   "cell_type": "code",
   "execution_count": null,
   "metadata": {},
   "outputs": [],
   "source": []
  }
 ],
 "metadata": {
  "kernelspec": {
   "display_name": "LMS",
   "language": "python",
   "name": "python3"
  },
  "language_info": {
   "codemirror_mode": {
    "name": "ipython",
    "version": 3
   },
   "file_extension": ".py",
   "mimetype": "text/x-python",
   "name": "python",
   "nbconvert_exporter": "python",
   "pygments_lexer": "ipython3",
   "version": "3.9.7"
  },
  "orig_nbformat": 4
 },
 "nbformat": 4,
 "nbformat_minor": 2
}
